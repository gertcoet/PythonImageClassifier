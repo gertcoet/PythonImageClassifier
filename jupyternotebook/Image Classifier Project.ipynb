{
 "cells": [
  {
   "cell_type": "markdown",
   "metadata": {},
   "source": [
    "# Developing an AI application\n",
    "\n",
    "Going forward, AI algorithms will be incorporated into more and more everyday applications. For example, you might want to include an image classifier in a smart phone app. To do this, you'd use a deep learning model trained on hundreds of thousands of images as part of the overall application architecture. A large part of software development in the future will be using these types of models as common parts of applications. \n",
    "\n",
    "In this project, you'll train an image classifier to recognize different species of flowers. You can imagine using something like this in a phone app that tells you the name of the flower your camera is looking at. In practice you'd train this classifier, then export it for use in your application. We'll be using [this dataset](http://www.robots.ox.ac.uk/~vgg/data/flowers/102/index.html) of 102 flower categories, you can see a few examples below. \n",
    "\n",
    "<img src='assets/Flowers.png' width=500px>\n",
    "\n",
    "The project is broken down into multiple steps:\n",
    "\n",
    "* Load and preprocess the image dataset\n",
    "* Train the image classifier on your dataset\n",
    "* Use the trained classifier to predict image content\n",
    "\n",
    "We'll lead you through each part which you'll implement in Python.\n",
    "\n",
    "When you've completed this project, you'll have an application that can be trained on any set of labeled images. Here your network will be learning about flowers and end up as a command line application. But, what you do with your new skills depends on your imagination and effort in building a dataset. For example, imagine an app where you take a picture of a car, it tells you what the make and model is, then looks up information about it. Go build your own dataset and make something new.\n",
    "\n",
    "First up is importing the packages you'll need. It's good practice to keep all the imports at the beginning of your code. As you work through this notebook and find you need to import a package, make sure to add the import up here."
   ]
  },
  {
   "cell_type": "code",
   "execution_count": 1,
   "metadata": {},
   "outputs": [],
   "source": [
    "# Imports here\n",
    "import matplotlib.pyplot as plt\n",
    "import torch\n",
    "from torch import nn ,optim\n",
    "import torch.nn.functional as F\n",
    "from torchvision import datasets, transforms, models\n",
    "from PIL import Image\n",
    "import numpy as np\n",
    "from workspace_utils import keep_awake\n",
    "from collections import OrderedDict\n",
    "import os\n",
    "import sys\n",
    "import datetime\n",
    "import random\n"
   ]
  },
  {
   "cell_type": "markdown",
   "metadata": {},
   "source": [
    "## Load the data\n",
    "\n",
    "Here you'll use `torchvision` to load the data ([documentation](http://pytorch.org/docs/0.3.0/torchvision/index.html)). The data should be included alongside this notebook, otherwise you can [download it here](https://s3.amazonaws.com/content.udacity-data.com/nd089/flower_data.tar.gz). The dataset is split into three parts, training, validation, and testing. For the training, you'll want to apply transformations such as random scaling, cropping, and flipping. This will help the network generalize leading to better performance. You'll also need to make sure the input data is resized to 224x224 pixels as required by the pre-trained networks.\n",
    "\n",
    "The validation and testing sets are used to measure the model's performance on data it hasn't seen yet. For this you don't want any scaling or rotation transformations, but you'll need to resize then crop the images to the appropriate size.\n",
    "\n",
    "The pre-trained networks you'll use were trained on the ImageNet dataset where each color channel was normalized separately. For all three sets you'll need to normalize the means and standard deviations of the images to what the network expects. For the means, it's `[0.485, 0.456, 0.406]` and for the standard deviations `[0.229, 0.224, 0.225]`, calculated from the ImageNet images.  These values will shift each color channel to be centered at 0 and range from -1 to 1.\n",
    " "
   ]
  },
  {
   "cell_type": "code",
   "execution_count": 2,
   "metadata": {},
   "outputs": [],
   "source": [
    "data_dir = 'flowers'\n",
    "train_dir = data_dir + '/train'\n",
    "valid_dir = data_dir + '/valid'\n",
    "test_dir = data_dir + '/test'"
   ]
  },
  {
   "cell_type": "code",
   "execution_count": 3,
   "metadata": {},
   "outputs": [],
   "source": [
    "batch_size = 64     # The batch size to use in the image data loaders"
   ]
  },
  {
   "cell_type": "code",
   "execution_count": 4,
   "metadata": {},
   "outputs": [],
   "source": [
    "# TODO: Define your transforms for the training, validation, and testing sets\n",
    "\n",
    "train_data_transforms = transforms.Compose([transforms.RandomRotation(30),\n",
    "                                           transforms.RandomResizedCrop(224),\n",
    "                                           transforms.RandomHorizontalFlip(),\n",
    "                                           #transforms.RandomVerticalFlip(),\n",
    "                                           #transforms.ColorJitter(0.5,0.5,0.5,0.5),\n",
    "                                           transforms.ToTensor(),                                                                                         \n",
    "                                           transforms.Normalize([0.485, 0.456, 0.406], \n",
    "                                                                [0.229, 0.224, 0.225])])        \n",
    "\n",
    "test_data_transforms = transforms.Compose([transforms.Resize(255),\n",
    "                                          transforms.CenterCrop(224),\n",
    "                                          transforms.ToTensor(),\n",
    "                                          transforms.Normalize([0.485, 0.456, 0.406],\n",
    "                                                               [0.229, 0.224, 0.225])])\n",
    "\n",
    "valid_data_transforms = transforms.Compose(transforms.ToTensor())\n",
    "\n",
    "\n",
    "# TODO: Load the datasets with ImageFolder3\n",
    "\n",
    "train_image_datasets = datasets.ImageFolder(train_dir, transform=train_data_transforms)\n",
    "test_image_datasets = datasets.ImageFolder(test_dir, transform=test_data_transforms)\n",
    "valid_image_datasets = datasets.ImageFolder(valid_dir, transform=test_data_transforms)\n",
    "\n",
    "\n",
    "\n",
    "# TODO: Using the image datasets and the trainforms, define the dataloaders\n",
    "\n",
    "train_dataloaders = torch.utils.data.DataLoader(train_image_datasets, batch_size=batch_size , shuffle=True)\n",
    "test_dataloaders = torch.utils.data.DataLoader(test_image_datasets, batch_size=batch_size , shuffle=True )\n",
    "valid_dataloaders = torch.utils.data.DataLoader(valid_image_datasets, batch_size=batch_size , shuffle=True )"
   ]
  },
  {
   "cell_type": "markdown",
   "metadata": {},
   "source": [
    "### Label mapping\n",
    "\n",
    "You'll also need to load in a mapping from category label to category name. You can find this in the file `cat_to_name.json`. It's a JSON object which you can read in with the [`json` module](https://docs.python.org/2/library/json.html). This will give you a dictionary mapping the integer encoded categories to the actual names of the flowers."
   ]
  },
  {
   "cell_type": "code",
   "execution_count": 5,
   "metadata": {},
   "outputs": [],
   "source": [
    "import json\n",
    "with open('cat_to_name.json', 'r') as f:\n",
    "    cat_to_name = json.load(f)    "
   ]
  },
  {
   "cell_type": "code",
   "execution_count": 6,
   "metadata": {},
   "outputs": [],
   "source": [
    "# Program parameters\n",
    "\n",
    "train_model = True              # Set this to true if the model must be re-trained\n",
    "model_file_name = 'flower.pth'  # The name of the file the model is going to be saved as (there is a trained model named - trained-flower) )\n",
    "learning_rate = 0.003           # The rate at which the model must learn\n",
    "epochs = 3\n",
    "model = None"
   ]
  },
  {
   "cell_type": "code",
   "execution_count": 7,
   "metadata": {},
   "outputs": [
    {
     "name": "stdout",
     "output_type": "stream",
     "text": [
      "Using device --> cuda\n"
     ]
    }
   ],
   "source": [
    "# Check for a Cuda enabled device\n",
    "\n",
    "device = torch.device('cuda' if torch.cuda.is_available() else 'cpu')      \n",
    "print('Using device -->', device.type)        "
   ]
  },
  {
   "cell_type": "markdown",
   "metadata": {},
   "source": [
    "# Building and training the classifier\n",
    "\n",
    "Now that the data is ready, it's time to build and train the classifier. As usual, you should use one of the pretrained models from `torchvision.models` to get the image features. Build and train a new feed-forward classifier using those features.\n",
    "\n",
    "We're going to leave this part up to you. Refer to [the rubric](https://review.udacity.com/#!/rubrics/1663/view) for guidance on successfully completing this section. Things you'll need to do:\n",
    "\n",
    "* Load a [pre-trained network](http://pytorch.org/docs/master/torchvision/models.html) (If you need a starting point, the VGG networks work great and are straightforward to use)\n",
    "* Define a new, untrained feed-forward network as a classifier, using ReLU activations and dropout\n",
    "* Train the classifier layers using backpropagation using the pre-trained network to get the features\n",
    "* Track the loss and accuracy on the validation set to determine the best hyperparameters\n",
    "\n",
    "We've left a cell open for you below, but use as many as you need. Our advice is to break the problem up into smaller parts you can run separately. Check that each part is doing what you expect, then move on to the next. You'll likely find that as you work through each part, you'll need to go back and modify your previous code. This is totally normal!\n",
    "\n",
    "When training make sure you're updating only the weights of the feed-forward network. You should be able to get the validation accuracy above 70% if you build everything right. Make sure to try different hyperparameters (learning rate, units in the classifier, epochs, etc) to find the best model. Save those hyperparameters to use as default values in the next part of the project.\n",
    "\n",
    "One last important tip if you're using the workspace to run your code: To avoid having your workspace disconnect during the long-running tasks in this notebook, please read in the earlier page in this lesson called Intro to\n",
    "GPU Workspaces about Keeping Your Session Active. You'll want to include code from the workspace_utils.py module.\n",
    "\n",
    "**Note for Workspace users:** If your network is over 1 GB when saved as a checkpoint, there might be issues with saving backups in your workspace. Typically this happens with wide dense layers after the convolutional layers. If your saved checkpoint is larger than 1 GB (you can open a terminal and check with `ls -lh`), you should reduce the size of your hidden layers and train again."
   ]
  },
  {
   "cell_type": "code",
   "execution_count": 8,
   "metadata": {},
   "outputs": [],
   "source": [
    "#Create a new model if training is enabled\n",
    "\n",
    "if (train_model):\n",
    "    model = models.resnet18(pretrained=True)       \n",
    "    \n",
    "    #freez paramaters\n",
    "    for param in model.parameters():\n",
    "        param.requires_grad = False\n",
    "\n",
    "    #create a fully connected network for the classifier     \n",
    "    model.fc = nn.Sequential(nn.Linear(512, 250),\n",
    "                                 nn.ReLU(),\n",
    "                                 nn.Dropout(0.2),                                 \n",
    "                                 nn.Linear(250, 102),                                                                                                     \n",
    "                                 nn.LogSoftmax(dim=1))\n",
    "    \n",
    "    #Set loss function and optimizer    \n",
    "    criterion = nn.NLLLoss()    \n",
    "    optimizer = optim.Adam(model.fc.parameters(), lr=learning_rate)\n"
   ]
  },
  {
   "cell_type": "code",
   "execution_count": 10,
   "metadata": {
    "scrolled": true
   },
   "outputs": [
    {
     "name": "stdout",
     "output_type": "stream",
     "text": [
      "Training model...be patient\n",
      "Epoch 1 of 3 | Training loss -> 1.085 | Test loss -> 0.612 | Test accuracy -> 0.829\n",
      "Epoch run time - 0:02:29.795674 seconds\n",
      "Epoch 2 of 3 | Training loss -> 1.024 | Test loss -> 0.504 | Test accuracy -> 0.872\n",
      "Epoch 2 of 3 | Training loss -> 0.930 | Test loss -> 0.479 | Test accuracy -> 0.865\n",
      "Epoch run time - 0:02:46.611865 seconds\n",
      "Epoch 3 of 3 | Training loss -> 0.991 | Test loss -> 0.490 | Test accuracy -> 0.869\n",
      "Epoch run time - 0:02:30.017220 seconds\n"
     ]
    }
   ],
   "source": [
    "# Train the model if requested\n",
    "\n",
    "if (train_model):\n",
    "    print(\"Training model...be patient\")\n",
    "    \n",
    "    run_number = 0\n",
    "    running_loss = 0    \n",
    "    \n",
    "    model.to(device);   \n",
    "    for epoch in keep_awake(range(epochs)):   \n",
    "        start = datetime.datetime.now()\n",
    "        \n",
    "        for images, labels in train_dataloaders:\n",
    "            \n",
    "            images = images.to(device)             \n",
    "            labels = labels.to(device)            \n",
    "            \n",
    "            run_number += 1                                         \n",
    "            optimizer.zero_grad()\n",
    "\n",
    "            logps = model.forward(images)        \n",
    "            loss = criterion(logps, labels)\n",
    "            loss.backward()\n",
    "            optimizer.step()\n",
    "            \n",
    "            running_loss += loss.item()\n",
    "\n",
    "            if run_number % batch_size == 0:\n",
    "                \n",
    "                test_loss = 0\n",
    "                accuracy = 0\n",
    "                \n",
    "                model.eval()\n",
    "                with torch.no_grad():\n",
    "                    for test_images, test_labels in test_dataloaders:\n",
    "                                                \n",
    "                        test_images = test_images.to(device) \n",
    "                        test_labels = test_labels.to(device)\n",
    "                        \n",
    "                        # Calculate batch loss\n",
    "                        test_logps = model.forward(test_images)                    \n",
    "                        batch_loss = criterion(test_logps, test_labels)\n",
    "                        test_loss += batch_loss.item()\n",
    "\n",
    "                        # Calculate batch accuracy\n",
    "                        ps = torch.exp(test_logps)                    \n",
    "                        prob, pred_class = ps.topk(1, dim=1)\n",
    "                        equals = pred_class == test_labels.view(*pred_class.shape)\n",
    "                        accuracy += torch.mean(equals.type(torch.FloatTensor)).item()\n",
    "\n",
    "                print(f\"Epoch {epoch+1} of {epochs} | \"\n",
    "                      f\"Training loss -> {running_loss/batch_size:.3f} | \"\n",
    "                      f\"Test loss -> {test_loss/len(test_dataloaders):.3f} | \"\n",
    "                      f\"Test accuracy -> {accuracy/len(test_dataloaders):.3f}\")\n",
    "                \n",
    "                running_loss = 0\n",
    "                model.train()    \n",
    "                \n",
    "        print (f\"Epoch run time - {(datetime.datetime.now() - start)} seconds\")            \n",
    "                \n",
    "else:\n",
    "    \n",
    "    print(\"Training skipped...\")\n",
    "          "
   ]
  },
  {
   "cell_type": "markdown",
   "metadata": {},
   "source": [
    "## Testing your network\n",
    "\n",
    "It's good practice to test your trained network on test data, images the network has never seen either in training or validation. This will give you a good estimate for the model's performance on completely new images. Run the test images through the network and measure the accuracy, the same way you did validation. You should be able to reach around 70% accuracy on the test set if the model has been trained well."
   ]
  },
  {
   "cell_type": "code",
   "execution_count": 12,
   "metadata": {},
   "outputs": [
    {
     "name": "stdout",
     "output_type": "stream",
     "text": [
      "Performing validation...\n",
      "Model accuracy: 87.23%\n"
     ]
    }
   ],
   "source": [
    "# TODO: Do validation on the test set\n",
    "\n",
    "if(train_model):\n",
    "    print(\"Performing validation...\")\n",
    "    model.eval()\n",
    "    val_accuracy = 0\n",
    "\n",
    "    for val_inputs, val_labels in valid_dataloaders:        \n",
    "        \n",
    "        val_inputs = val_inputs.to(device)\n",
    "        val_labels = val_labels.to(device)  \n",
    "        \n",
    "        val_ps = torch.exp(model(val_inputs))  \n",
    "\n",
    "        val_prob, val_class = val_ps.topk(1, dim=1)        \n",
    "        val_equals = val_class == val_labels.view(*val_class.shape)\n",
    "        val_accuracy += torch.mean(val_equals.type(torch.FloatTensor)).item()        \n",
    "\n",
    "    print(f\"Model accuracy: {round(100*(val_accuracy/len(valid_dataloaders)),2)}%\")   \n",
    "\n",
    "else:\n",
    "    print(\"Testing skipped...\")\n"
   ]
  },
  {
   "cell_type": "markdown",
   "metadata": {},
   "source": [
    "## Save the checkpoint\n",
    "\n",
    "Now that your network is trained, save the model so you can load it later for making predictions. You probably want to save other things such as the mapping of classes to indices which you get from one of the image datasets: `image_datasets['train'].class_to_idx`. You can attach this to the model as an attribute which makes inference easier later on.\n",
    "\n",
    "```model.class_to_idx = image_datasets['train'].class_to_idx```\n",
    "\n",
    "Remember that you'll want to completely rebuild the model later so you can use it for inference. Make sure to include any information you need in the checkpoint. If you want to load the model and keep training, you'll want to save the number of epochs as well as the optimizer state, `optimizer.state_dict`. You'll likely want to use this trained model in the next part of the project, so best to save it now."
   ]
  },
  {
   "cell_type": "code",
   "execution_count": 13,
   "metadata": {},
   "outputs": [],
   "source": [
    "# TODO: Save the checkpoint \n",
    "\n",
    "# Only save the model if there was newly trained \n",
    "if (train_model):\n",
    "    model.class_to_idx = train_image_datasets.class_to_idx\n",
    "    torch.save(model, model_file_name)\n"
   ]
  },
  {
   "cell_type": "markdown",
   "metadata": {},
   "source": [
    "## Loading the checkpoint\n",
    "\n",
    "At this point it's good to write a function that can load a checkpoint and rebuild the model. That way you can come back to this project and keep working on it without having to retrain the network."
   ]
  },
  {
   "cell_type": "code",
   "execution_count": 24,
   "metadata": {},
   "outputs": [],
   "source": [
    "# TODO: Write a function that loads a checkpoint and rebuilds the model\n",
    "\n",
    "def load_model(model_name):\n",
    "    try:\n",
    "        if (device.type == 'cpu'):\n",
    "            model = torch.load(model_name, map_location=lambda storage, loc: storage)\n",
    "        else:    \n",
    "            model = torch.load(model_name)    \n",
    "    except error as e:\n",
    "        print(f\"Failed to load model {model_name}\")\n",
    "        print(error)\n",
    "    return model        "
   ]
  },
  {
   "cell_type": "markdown",
   "metadata": {},
   "source": [
    "\n",
    "# Inference for classification\n",
    "\n",
    "Now you'll write a function to use a trained network for inference. That is, you'll pass an image into the network and predict the class of the flower in the image. Write a function called `predict` that takes an image and a model, then returns the top $K$ most likely classes along with the probabilities. It should look like \n",
    "\n",
    "```python\n",
    "probs, classes = predict(image_path, model)\n",
    "print(probs)\n",
    "print(classes)\n",
    "> [ 0.01558163  0.01541934  0.01452626  0.01443549  0.01407339]\n",
    "> ['70', '3', '45', '62', '55']\n",
    "```\n",
    "\n",
    "First you'll need to handle processing the input image such that it can be used in your network. \n",
    "\n",
    "## Image Preprocessing\n",
    "\n",
    "You'll want to use `PIL` to load the image ([documentation](https://pillow.readthedocs.io/en/latest/reference/Image.html)). It's best to write a function that preprocesses the image so it can be used as input for the model. This function should process the images in the same manner used for training. \n",
    "\n",
    "First, resize the images where the shortest side is 256 pixels, keeping the aspect ratio. This can be done with the [`thumbnail`](http://pillow.readthedocs.io/en/3.1.x/reference/Image.html#PIL.Image.Image.thumbnail) or [`resize`](http://pillow.readthedocs.io/en/3.1.x/reference/Image.html#PIL.Image.Image.thumbnail) methods. Then you'll need to crop out the center 224x224 portion of the image.\n",
    "\n",
    "Color channels of images are typically encoded as integers 0-255, but the model expected floats 0-1. You'll need to convert the values. It's easiest with a Numpy array, which you can get from a PIL image like so `np_image = np.array(pil_image)`.\n",
    "\n",
    "As before, the network expects the images to be normalized in a specific way. For the means, it's `[0.485, 0.456, 0.406]` and for the standard deviations `[0.229, 0.224, 0.225]`. You'll want to subtract the means from each color channel, then divide by the standard deviation. \n",
    "\n",
    "And finally, PyTorch expects the color channel to be the first dimension but it's the third dimension in the PIL image and Numpy array. You can reorder dimensions using [`ndarray.transpose`](https://docs.scipy.org/doc/numpy-1.13.0/reference/generated/numpy.ndarray.transpose.html). The color channel needs to be first and retain the order of the other two dimensions."
   ]
  },
  {
   "cell_type": "code",
   "execution_count": 25,
   "metadata": {},
   "outputs": [],
   "source": [
    "def process_image(image):\n",
    "    ''' Scales, crops, and normalizes a PIL image for a PyTorch model,\n",
    "        returns an Numpy array\n",
    "    '''\n",
    "    # TODO: Process a PIL image for use in a PyTorch model             \n",
    "    width, height = image.size;\n",
    "    min_side_len = 256\n",
    "    crop_size = 244\n",
    "    \n",
    "    # Create a thumbnail with the shortest side equal to min_side_len    \n",
    "    if width > height:\n",
    "        image.thumbnail((sys.maxsize, min_side_len),Image.ANTIALIAS) \n",
    "    else:  \n",
    "        image.thumbnail((min_side_len, sys.maxsize),Image.ANTIALIAS)  \n",
    "                \n",
    "    # Crop the image to crop_size\n",
    "    width, height = image.size;\n",
    "    crop_box = get_crop_box(width,height,crop_size)        \n",
    "    image = image.crop(crop_box)\n",
    "        \n",
    "    # Convert the image to a numpy array and convert the colour channel position    \n",
    "    np_image = np.array(image) / 255.0     \n",
    "    \n",
    "    # Normalize the image as per the model requirements\n",
    "    mean = np.array([0.485, 0.456, 0.406])\n",
    "    st_dev = np.array([0.229, 0.224, 0.225])    \n",
    "    np_image = (np_image - mean) / st_dev     \n",
    "    \n",
    "    # Move color channel to first dimension\n",
    "    np_image = np_image.transpose((2,0,1))            \n",
    "    image_tensor = torch.from_numpy(np_image)  \n",
    "    float_tensor = image_tensor.float()\n",
    "    \n",
    "    return float_tensor"
   ]
  },
  {
   "cell_type": "code",
   "execution_count": 26,
   "metadata": {},
   "outputs": [],
   "source": [
    "# Used in process_image() to get a crop box\n",
    "def get_crop_box(width,height,crop_to):                    \n",
    "           \n",
    "    left = (width - 224) / 2\n",
    "    upper = (height - 224) / 2\n",
    "    right = (width + 224) / 2\n",
    "    lower = (height + 224) / 2\n",
    "     \n",
    "    return (left,upper,right,lower)    "
   ]
  },
  {
   "cell_type": "markdown",
   "metadata": {},
   "source": [
    "To check your work, the function below converts a PyTorch tensor and displays it in the notebook. If your `process_image` function works, running the output through this function should return the original image (except for the cropped out portions)."
   ]
  },
  {
   "cell_type": "code",
   "execution_count": 27,
   "metadata": {},
   "outputs": [],
   "source": [
    "def imshow(image, ax=None, title=None):\n",
    "    \"\"\"Imshow for Tensor.\"\"\"\n",
    "    if ax is None:\n",
    "        fig, ax = plt.subplots()\n",
    "    \n",
    "    # PyTorch tensors assume the color channel is the first dimension\n",
    "    # but matplotlib assumes is the third dimension\n",
    "    image = image.numpy().transpose((1, 2, 0))\n",
    "    \n",
    "    # Undo preprocessing\n",
    "    mean = np.array([0.485, 0.456, 0.406])\n",
    "    std = np.array([0.229, 0.224, 0.225])\n",
    "    image = std * image + mean\n",
    "    \n",
    "    # Image needs to be clipped between 0 and 1 or it looks like noise when displayed\n",
    "    image = np.clip(image, 0, 1)\n",
    "    \n",
    "    ax.imshow(image)\n",
    "    \n",
    "    return ax"
   ]
  },
  {
   "cell_type": "code",
   "execution_count": 28,
   "metadata": {},
   "outputs": [],
   "source": [
    "# Gets the class of the image from the filepath\n",
    "def get_class_from_path(path):\n",
    "    path = path[::-1]\n",
    "    pic_class = path.split(os.sep)\n",
    "    return pic_class[1][::-1]"
   ]
  },
  {
   "cell_type": "code",
   "execution_count": 29,
   "metadata": {},
   "outputs": [],
   "source": [
    "#Returns a random image path from the specified list\n",
    "def get_random_image_path(image_dir):\n",
    "    #Get a list of all the images\n",
    "    file_paths = []\n",
    "    for root, dirs, files in os.walk(image_dir):\n",
    "        for file in files:\n",
    "            #if file.endswith(\".jpg\"):\n",
    "            file_paths.append(os.path.join(root, file))\n",
    "                \n",
    "\n",
    "    #Check that a file was found\n",
    "    if (len(file_paths) < 1):\n",
    "        print(\"No input file found\")\n",
    "\n",
    "    else:\n",
    "    #Pick a random file to display    \n",
    "        file_path = file_paths[random.randint(0,len(file_paths))]\n",
    "    \n",
    "    return file_path"
   ]
  },
  {
   "cell_type": "markdown",
   "metadata": {},
   "source": [
    "## Class Prediction\n",
    "\n",
    "Once you can get images in the correct format, it's time to write a function for making predictions with your model. A common practice is to predict the top 5 or so (usually called top-$K$) most probable classes. You'll want to calculate the class probabilities then find the $K$ largest values.\n",
    "\n",
    "To get the top $K$ largest values in a tensor use [`x.topk(k)`](http://pytorch.org/docs/master/torch.html#torch.topk). This method returns both the highest `k` probabilities and the indices of those probabilities corresponding to the classes. You need to convert from these indices to the actual class labels using `class_to_idx` which hopefully you added to the model or from an `ImageFolder` you used to load the data ([see here](#Save-the-checkpoint)). Make sure to invert the dictionary so you get a mapping from index to class as well.\n",
    "\n",
    "Again, this method should take a path to an image and a model checkpoint, then return the probabilities and classes.\n",
    "\n",
    "```python\n",
    "probs, classes = predict(image_path, model)\n",
    "print(probs)\n",
    "print(classes)\n",
    "> [ 0.01558163  0.01541934  0.01452626  0.01443549  0.01407339]\n",
    "> ['70', '3', '45', '62', '55']\n",
    "\n",
    "```"
   ]
  },
  {
   "cell_type": "code",
   "execution_count": 30,
   "metadata": {},
   "outputs": [],
   "source": [
    "\n",
    "\n",
    "def predict(image_path, model, topk=5):\n",
    "    ''' Predict the class (or classes) of an image using a trained deep learning model.\n",
    "    '''\n",
    "    # TODO: Implement the code to predict the class from an image file\n",
    "    \n",
    "    im = Image.open(image_path)\n",
    "    im_tensor = process_image(im)\n",
    "    im_tensor.unsqueeze_(0)    \n",
    "    im_tensor = im_tensor.to(device)\n",
    "    \n",
    "    model.to(device)\n",
    "    model.eval()\n",
    "\n",
    "    pred_top_class = []\n",
    "    pred_probs = []        \n",
    "    \n",
    "    with torch.no_grad():        \n",
    "        pred_ps = torch.exp(model(im_tensor))          \n",
    "        probs, pred_top_idx = pred_ps.topk(5, dim=1)     \n",
    "        \n",
    "    pred_probs = probs[0].cpu().tolist()\n",
    "    idx_list = pred_top_idx[0].cpu().numpy().astype(str).tolist()\n",
    "    idx_to_class = {value: key for key, value in model.class_to_idx.items()}    \n",
    "    \n",
    "    try:\n",
    "        for i in range(len(idx_list)):            \n",
    "            pred_top_class.append(idx_to_class[int(idx_list[i])])                                \n",
    "            \n",
    "         \n",
    "    except:\n",
    "        print(f\"Failed to find class type {idx_list[i]}\")\n",
    "        pred_top_class = []\n",
    "        pred_probs = []\n",
    "        \n",
    "    return pred_probs , pred_top_class\n",
    "    \n",
    "#random_image_path = get_random_image_path(valid_dir)\n",
    "#predict(random_image_path,model)\n"
   ]
  },
  {
   "cell_type": "code",
   "execution_count": 31,
   "metadata": {},
   "outputs": [],
   "source": [
    "# Get class names from the catagory dictionary\n",
    "\n",
    "def get_class_names(class_list,catagory_dict):\n",
    "    class_name = []\n",
    "    for c in class_list:\n",
    "        class_name.append(catagory_dict[str(c)])\n",
    "    return class_name        "
   ]
  },
  {
   "cell_type": "markdown",
   "metadata": {},
   "source": [
    "## Sanity Checking\n",
    "\n",
    "Now that you can use a trained model for predictions, check to make sure it makes sense. Even if the testing accuracy is high, it's always good to check that there aren't obvious bugs. Use `matplotlib` to plot the probabilities for the top 5 classes as a bar graph, along with the input image. It should look like this:\n",
    "\n",
    "<img src='assets/inference_example.png' width=300px>\n",
    "\n",
    "You can convert from the class integer encoding to actual flower names with the `cat_to_name.json` file (should have been loaded earlier in the notebook). To show a PyTorch tensor as an image, use the `imshow` function defined above."
   ]
  },
  {
   "cell_type": "code",
   "execution_count": 37,
   "metadata": {},
   "outputs": [
    {
     "name": "stdout",
     "output_type": "stream",
     "text": [
      "\n"
     ]
    },
    {
     "data": {
      "image/png": "[encoded data removed]",
      "text/plain": [
       "<matplotlib.figure.Figure at 0x7fcfac2bb4e0>"
      ]
     },
     "metadata": {
      "needs_background": "light"
     },
     "output_type": "display_data"
    }
   ],
   "source": [
    "# TODO: Display an image along with the top 5 classes\n",
    "\n",
    "# Get a random image\n",
    "random_image_path = get_random_image_path(valid_dir)\n",
    "img_tensor = process_image(Image.open(random_image_path))\n",
    "img_class = get_class_from_path(random_image_path)\n",
    "\n",
    "# Load the model and make a prediction\n",
    "model = load_model(model_file_name)\n",
    "probs , classes = predict(random_image_path,model)\n",
    "\n",
    "# Get names for the classes\n",
    "class_names = get_class_names(classes,cat_to_name)\n",
    "\n",
    "# Print the information\n",
    "fig, (ax1, ax2) = plt.subplots(figsize=(9,6), nrows=2)\n",
    "ax1.set_title(cat_to_name[str(img_class)])\n",
    "ax2.set_yticks(np.arange(5))\n",
    "ax2.set_yticklabels(class_names)\n",
    "ax2.barh(np.arange(5), probs)\n",
    "\n",
    "imshow(img_tensor,ax1)\n",
    "print()\n"
   ]
  }
 ],
 "metadata": {
  "kernelspec": {
   "display_name": "Python 3",
   "language": "python",
   "name": "python3"
  },
  "language_info": {
   "codemirror_mode": {
    "name": "ipython",
    "version": 3
   },
   "file_extension": ".py",
   "mimetype": "text/x-python",
   "name": "python",
   "nbconvert_exporter": "python",
   "pygments_lexer": "ipython3",
   "version": "3.6.3"
  }
 },
 "nbformat": 4,
 "nbformat_minor": 2
}
